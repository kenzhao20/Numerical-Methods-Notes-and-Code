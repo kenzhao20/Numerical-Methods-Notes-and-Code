{
 "cells": [
  {
   "cell_type": "markdown",
   "id": "c57ab380-bb7f-4b43-b320-a2b146930f3a",
   "metadata": {},
   "source": [
    "# Tree Algorithm for Force\n",
    "\n",
    "Direct summation ~ $N^2$\n",
    "Particle Mesh ~ $N_{grid}$\n",
    "\n",
    "Let's look at calculating the force in 2D space using the tree algorithm.\n",
    "\n",
    "Idea is we can estimate the force exerted by a group of particles if the groups are sufficiently far away. \n",
    "\n",
    "In practice, we must organise these particles into a tree structue: we need to 'build the tree'\n",
    "\n",
    "The first piece of information we need to store is the total mass and centre of mass of the entire 2D grid. (this should be relatively easy). This is stored in the first node of the tree.\n",
    "\n",
    "Next we divide the grid into 4 equal squares (bc we are in 2D), and then we traverse the grid in a clockwise manner and repeat the same thing as before. We use a dashed line if there are no particles in there and we use undashed if there are particles in that box.\n",
    "\n",
    "We then repeat (on the squares that still have partciles in them).\n",
    "\n",
    "The end point of each branch should be a particle.\n",
    "\n",
    "\n",
    "To compute the force on each particle we need to 'walk the tree'.\n",
    "\n",
    "Suppose we need to work out the force on the $i^{th}$ particle.\n",
    "\n",
    "to walk the tree we start on the top. WE then look at the ratio of the distance of the COM at that node (in this case the COM of all the particle in the grid) to the dimension of the entire grid. Generally, we compare this to an opening angle. If the ratio of $\\frac{L_1}{D_1}$, where $L_1$ is the length of the grid and $D_1$ is the distance from the particle to the COM of that nod, is greater than some parameter $\\theta$ called the opening angle (e.g. 0.5) then we move onto the next nodes in the tree.\n",
    "\n",
    "Physically, it means that the distance of the COM is too close.\n",
    "\n",
    "We keep descending the tree, but at each step we use the COM of that node and the length of the grid corresponding with that node.\n",
    "\n",
    "For particle alone in cell or with $\\frac{L}{D}>\\theta$ then we are forced to use __Direct Summation$"
   ]
  },
  {
   "cell_type": "markdown",
   "id": "fe3d61a8-b5e6-4558-bc30-016d67c2d945",
   "metadata": {},
   "source": [
    "Now what is the __computational cost__ of this algorithm?\n",
    "\n",
    "Well we first have to build the tree. To do this we have to subdivide the grid until 0 or 1 particle is in a box.\n",
    "\n",
    "So $N(\\frac{1}{2})^x=1$ where $x$ is the number of steps.\n",
    "\n",
    "So $x=logN$ for this part.\n",
    "\n",
    "Second we must walk the tree. So we have to systematically go through each non-ending branch, which is $N$\n",
    "\n",
    "so the ultimate cost is $NlogN$\n",
    "\n",
    "\n",
    "What about the __resolution__? The resolution is determined by what is called the 'softening parameter' $\\epsilon$. To understand this let us return to the force calculation\n",
    "\n",
    "$\\vec{F}(\\vec{r_i})=-\\sum_{i\\neq j}\\frac{Gm_im_j}{r_i-r_j+\\epsilon^2}(\\vec{r_i}-\\vec{r_j})$\n",
    "\n",
    "So the softening parameter is to avoid a singularity of the particles get too close together. It is also invoked to prevent the time step from getting too short, since $\\delta t \\sim \\sqrt{\\frac{\\epsilon}{a}}$.\n",
    "\n",
    "How do we choose the softening parameter? "
   ]
  },
  {
   "cell_type": "markdown",
   "id": "725ba093-5788-4432-8307-0bd854bf6745",
   "metadata": {},
   "source": [
    "We've looked at a few different algorithms. Often schemes use a hybrid scheme.\n",
    "\n",
    "Let's consider a hybrid scheme: the __Tree-PM__ one.\n",
    "\n",
    "So instead we use the tree algorithm to calculate short range forces and the particle mesh to calculate the long range forces. But these are hard because you need to decide where the cut off lies and how to combine the forces."
   ]
  },
  {
   "cell_type": "code",
   "execution_count": null,
   "id": "46bea9ee-ffa4-442c-b84c-3604091d5f60",
   "metadata": {},
   "outputs": [],
   "source": []
  }
 ],
 "metadata": {
  "kernelspec": {
   "display_name": "Python 3 (ipykernel)",
   "language": "python",
   "name": "python3"
  },
  "language_info": {
   "codemirror_mode": {
    "name": "ipython",
    "version": 3
   },
   "file_extension": ".py",
   "mimetype": "text/x-python",
   "name": "python",
   "nbconvert_exporter": "python",
   "pygments_lexer": "ipython3",
   "version": "3.11.4"
  }
 },
 "nbformat": 4,
 "nbformat_minor": 5
}

{
 "cells": [
  {
   "cell_type": "markdown",
   "id": "d9568b65-2f92-4177-a4ba-e3dc4e6f1fca",
   "metadata": {},
   "source": [
    "# N-body Problem"
   ]
  },
  {
   "cell_type": "markdown",
   "id": "ddc86ab7-5804-4589-b50a-e0e54b4eb65d",
   "metadata": {},
   "source": [
    "We will now look at particle simulations of N bodies, all with positions and velocities. Looking at this example will teach us valuable lessons regarding stability.\n",
    "\n",
    "If, say, we are looking at Newtonian gravitational phenonmenon, it should be noted that the equation is non-linear, and thus slight changes in initial conditions lead to complete change in long term behaviour. "
   ]
  },
  {
   "cell_type": "markdown",
   "id": "33541f48-4199-4921-96cf-37c0c5a74412",
   "metadata": {},
   "source": [
    "The leapfrog algorithim calculates the positions of the particle at index $i$ and then uses that to calculate the velocities at index $i+\\frac{1}{2}$, which then uses those velocities to calculate the positions at index $i+1$.\n",
    "\n",
    "This is a very stable scheme because of two reasons:\n",
    "1. It is time reversible (this can be found out with a few lines of algebra)\n",
    "2. It preserves area in phase space i.e. it is a __Symplectic__ Algorithm. Symplectic Algorithms are globally stable. This can be understood because it prevents the algorithm from having a scenario where the coordinates, and thus the energies, increase without bounds."
   ]
  },
  {
   "cell_type": "code",
   "execution_count": null,
   "id": "96890f5f-699b-4778-aea5-8e4fef50890c",
   "metadata": {},
   "outputs": [],
   "source": []
  }
 ],
 "metadata": {
  "kernelspec": {
   "display_name": "Python 3 (ipykernel)",
   "language": "python",
   "name": "python3"
  },
  "language_info": {
   "codemirror_mode": {
    "name": "ipython",
    "version": 3
   },
   "file_extension": ".py",
   "mimetype": "text/x-python",
   "name": "python",
   "nbconvert_exporter": "python",
   "pygments_lexer": "ipython3",
   "version": "3.11.4"
  }
 },
 "nbformat": 4,
 "nbformat_minor": 5
}

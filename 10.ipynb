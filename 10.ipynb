{
 "cells": [
  {
   "cell_type": "markdown",
   "id": "412c4bfe-66fc-438b-80ce-90d2f16cc621",
   "metadata": {},
   "source": [
    "# Finite Volume v Finite Difference Methods"
   ]
  },
  {
   "cell_type": "markdown",
   "id": "888f2833-a882-4b14-b37f-7fb6d2e6e3b9",
   "metadata": {},
   "source": [
    "Finite difference is not the only way to solve ODEs or PDEs. \n",
    "\n",
    "Consider the following hyperbolic PDE:\n",
    "\n",
    "$\\frac{\\partial U}{\\partial t}+\\frac{\\partial F}{\\partial x}=0$ where $F=F(U)$\n",
    "\n",
    "This is a 'conservation law'.\n",
    "\n",
    "For finite difference, recall, we have some discrete grid. We store the value of the function at the grid positions. Then if we want to solve the PDE, we approximate the PDE by using finite differences between the grid points.\n",
    "\n",
    "However, if we recall, the finite difference scheme is very diffusive. It could not handle the square pulse in the linear advection problem, and the issue is how are we supposed to calculate the derivative at discontinuities?"
   ]
  },
  {
   "cell_type": "markdown",
   "id": "cad49626-4e5e-4982-8110-ad4582764906",
   "metadata": {},
   "source": [
    "Finite volume. \n",
    "\n",
    "In this case we still discritise our coordinates (e.g. with x). For the finite volume method instead of storing the value of our function at each grid point, we store the __average__ of the function within the grid point.\n",
    "\n",
    "So instead of storing $U(x_i)$ at grid point $x_i$, we store $<U_i>=\\frac{1}{\\delta x}\\int_{x_{i-\\frac{1}{2}}}^{x_{i+\\frac{1}{2}}}U(x,t_n)dx$\n",
    "\n",
    "So why is this helpful? This is bc we can devise a method where we don't need to approximate partial derivatives.\n",
    "\n",
    "consider again\n",
    "\n",
    "$\\frac{\\partial U}{\\partial t}+\\frac{\\partial F}{\\partial x}=0$\n",
    "\n",
    "Now consider integrating this function over space and time\n",
    "\n",
    "$\\int_{t_n}^{t_{n+1}}\\int_{x-\\frac{1}{2}}^{x+\\frac{1}{2}}\\frac{\\partial U}{\\partial t}+\\frac{\\partial F}{\\partial x}dtdx=0$"
   ]
  },
  {
   "cell_type": "markdown",
   "id": "caef7807-4ecc-4f9d-9428-6d75926cf731",
   "metadata": {},
   "source": [
    "After some algebra we get:\n",
    "\n",
    "$\\delta x (<U>_i^{n+1}-<U>_i^n)+\\delta t (\\tilde{F}^{n+\\frac{1}{2}}_{i+\\frac{1}{2}}-\\tilde{F}^{n+\\frac{1}{2}}_{i-\\frac{1}{2}})=0$"
   ]
  },
  {
   "cell_type": "markdown",
   "id": "7e51863e-453f-4edb-87df-7379b53139f9",
   "metadata": {},
   "source": [
    "What are these squiggly F's? \n",
    "\n",
    "$\\tilde{F}^{n+\\frac{1}{2}}_{i\\pm \\frac{1}{2}}=\\frac{1}{\\delta t}\\int^{t_{n+1}}_{t_n}F(U(x_{i\\pm \\frac{1}{2}},t))dt$"
   ]
  },
  {
   "cell_type": "markdown",
   "id": "c405b7eb-e37b-49b5-b48a-894ee670351a",
   "metadata": {},
   "source": [
    "so to rearrange finally\n",
    "\n",
    "$<U>_i^{n+1}=<U>_i^n+\\frac{\\delta t}{\\delta x} (\\tilde{F}^{n+\\frac{1}{2}}_{i+\\frac{1}{2}}-\\tilde{F}^{n+\\frac{1}{2}}_{i-\\frac{1}{2}})=0$"
   ]
  },
  {
   "cell_type": "markdown",
   "id": "b33f8021-3e0c-4517-aadf-07d3957fa499",
   "metadata": {},
   "source": [
    "This is a conservative form of the original PDE. Why is this so exciting?\n",
    "\n",
    "So our solution is saying that the only way to advance our solution is by fluxes (the squiggly F's) into and out of the grid space.\n",
    "\n",
    "So we've essentially changed the approximation from approximating the derivative to APPROXIMATING THE INTEGRALS (i.e. finding the squiggly F's)\n",
    "\n",
    "So we get 2 advantages:\n",
    "1. Guarantee Global Conservation\n",
    "2. Capture Discontinuities"
   ]
  },
  {
   "cell_type": "markdown",
   "id": "a24dec62-3a1c-4fc5-9654-b7e7978a1504",
   "metadata": {},
   "source": [
    "Consider the Euler Equations.\n",
    "\n",
    "$\\frac{\\partial \\rho}{\\partial t}+\\frac{\\partial}{\\partial x_i}(\\rho v_i)=0$\n",
    "\n",
    "$\\frac{\\partial}{\\partial t}(\\rho v_i)+\\frac{\\partial}{\\partial x_j}(\\rho v_i v_j + P_{ij})=0$\n",
    "\n",
    "$\\frac{\\partial}{\\partial t}(\\epsilon)+\\frac{\\partial}{\\partial x_i}((\\epsilon + P)v_i)=0$\n",
    "\n",
    "where $\\epsilon = e + \\frac{1}{2}\\rho v^2$\n",
    "\n",
    "So in 3D we have 5 equations (1 for the mass, 1 for the energy and 3 for the velocity).\n",
    "\n",
    "But we have 6 variables! ($\\rho$,3 of $v_i$, $\\epsilon$, $P$).\n",
    "\n",
    "So we invoke a 'closure relation' (an eqn of state)\n",
    "\n",
    "$P=(\\gamma -1)e$"
   ]
  },
  {
   "cell_type": "markdown",
   "id": "7bdcbf97-21b0-4606-b414-7f9044ad9f1b",
   "metadata": {},
   "source": [
    "So what are our conserved variables?\n",
    "\n",
    "$\\begin{pmatrix}\\rho \\\\ \\rho v_i \\\\ \\epsilon \\end{pmatrix}$ (or the mass density, momenutm density, and energy). So we can recast Euler's equations into what are called __primitive variables__. These are density, velocity and pressure $\\begin{pmatrix} \\rho \\\\ v \\\\ P \\end{pmatrix}$, which are variables that are not all conserved. \n",
    "\n",
    "Introduce Lagrangian derivative\n",
    "\n",
    "$\\frac{D}{Dt} = \\frac{\\partial}{\\partial t}+\\vec{v} \\cdot \\vec{\\nabla}$\n",
    "\n",
    "So now recasting our Euler equations, we get :\n",
    "\n",
    "\n",
    "$\\frac{D \\rho}{Dt}=\\rho \\vec{\\nabla} \\cdot \\vec{v}$\n",
    "\n",
    "$\\rho \\frac{D v_i}{Dt}+\\frac{\\partial P}{\\partial x_i}=0$\n",
    "\n",
    "$\\frac{D e}{Dt}=-(e+P)\\vec{\\nabla}\\cdot\\vec{v}$"
   ]
  },
  {
   "cell_type": "markdown",
   "id": "0b0e8e73-1fd9-4304-8d99-b328ae96f2b5",
   "metadata": {},
   "source": [
    "IF we do this in 1 dimension we get the following equations:\n",
    "\n",
    "$\\frac{\\partial \\rho}{\\partial t}+v_x\\frac{\\partial \\rho}{\\partial x}+\\rho\\frac{\\partial v_x}{\\partial x}=0$\n",
    "\n",
    "$\\rho \\frac{\\partial v_x}{\\partial t}+\\rho v_x\\frac{\\partial v_x}{\\partial x} + \\frac{\\partial P}{\\partial x}=0$\n",
    "\n",
    "$\\frac{\\partial P}{\\partial t}+v_x\\frac{\\partial P}{\\partial x}+(\\gamma P)\\frac{\\partial v_x}{\\partial v_x}{\\partial x}$"
   ]
  },
  {
   "cell_type": "markdown",
   "id": "895c0798-93f3-405a-bac3-de156ab8604a",
   "metadata": {},
   "source": [
    "This is not a conservative formulation. furthermore, all the variables are coupled!\n",
    "\n",
    "So we can write the equations in a much more elegant form.\n",
    "\n",
    "$\\frac{\\partial}{\\partial t} \\begin{pmatrix} \\rho \\\\ v_x \\\\ P\\end{pmatrix} + \\begin{pmatrix} v_x & \\rho & 0 \\\\ 0 & v_x & \\frac{1}{\\rho} \\\\ 0 & \\gamma P & v_x\\end{pmatrix}\\frac{\\partial}{\\partial x} \\begin{pmatrix} \\rho \\\\ v_x \\\\ P \\end{pmatrix}=0$"
   ]
  },
  {
   "cell_type": "markdown",
   "id": "bde07bd5-1a0e-4021-9485-bd37f942ede8",
   "metadata": {},
   "source": [
    "Note that the matrix is NOT a constant (i.e. it is a nonlinear system of partial differential equations), but we can simplify things by making it a constant i.e. by LINEARISING the Euler equations.\n",
    "\n",
    "To do this we take a trial solution \n",
    "\n",
    "$\\begin{pmatrix}\\rho (x,t) \\\\ v_x (x,t) \\\\ P(x,t) \\end{pmatrix} = \\begin{pmatrix} \\rho_0 \\\\ v_{x0} \\\\ P_0 \\end{pmatrix} + \\begin{pmatrix} \\rho_1 \\\\ v_{x1} \\\\ P_1 \\end{pmatrix} e^{i(kx-\\omega t)}$\n",
    "\n",
    "which is sum of a constant initial state and a small fluctuation. We plug this into our primitive Euler equations we keep only the first order terms we get this.\n",
    "\n",
    "$-i\\omega \\begin{pmatrix} \\rho_1 \\\\ v_{x1} \\\\ P_1 \\end{pmatrix}+ik\\begin{pmatrix} v_{x0} & \\rho_0 & 0 \\\\ 0 & v_{x0} & \\frac{1}{\\rho_0} \\\\ 0 & \\gamma P_0 & v_{x0} \\end{pmatrix} \\begin{pmatrix} \\rho_1 \\\\ v_{x1} \\\\ P_1 \\end{pmatrix}=0$\n",
    "\n"
   ]
  },
  {
   "cell_type": "markdown",
   "id": "427716a4-180c-4a98-8b75-cb12334da1c0",
   "metadata": {},
   "source": [
    "So now the matrix is constant!\n",
    "\n",
    "Furthermore, this is now an eigenvalue equation!\n",
    "\n",
    "$A \\vec{v} = \\lambda \\vec{v}$\n",
    "\n",
    "where $\\lambda = \\frac{\\omega }{k}$\n",
    "\n",
    "solving the eigenvalue equation gives us three eigenvalues:\n",
    "\n",
    "first define the sound speed, which is $c_0=\\sqrt{\\frac{\\gamma P_0}{\\rho_0}}$\n",
    "\n",
    "$\\lambda_1 = v_{x0}-c_0$\n",
    "\n",
    "$\\lambda_2 = v_{x0}$\n",
    "\n",
    "$\\lambda_3 = v_{x0}+c_0$"
   ]
  },
  {
   "cell_type": "markdown",
   "id": "824cd8c6-3398-4a8b-acd1-b2efbda019de",
   "metadata": {},
   "source": [
    "Note that the units of the eigenvalues are in speed! In the lectures we sketch a curve, which i will just screenshot here."
   ]
  },
  {
   "cell_type": "code",
   "execution_count": 1,
   "id": "5c5f00c5-46e1-4c8c-89c5-d82882a543e1",
   "metadata": {
    "tags": []
   },
   "outputs": [
    {
     "data": {
      "text/plain": [
       "(-0.5, 951.5, 373.5, -0.5)"
      ]
     },
     "execution_count": 1,
     "metadata": {},
     "output_type": "execute_result"
    },
    {
     "data": {
      "image/png": "[encoded data removed]",
      "text/plain": [
       "<Figure size 640x480 with 1 Axes>"
      ]
     },
     "metadata": {},
     "output_type": "display_data"
    }
   ],
   "source": [
    "import matplotlib.pyplot as plt\n",
    "import matplotlib.image as mpimg\n",
    "\n",
    "image = mpimg.imread('Euler_ch.png')\n",
    "plt.imshow(image)\n",
    "plt.axis('off')"
   ]
  },
  {
   "cell_type": "markdown",
   "id": "7b683199-ff13-4fd0-af57-3356e6244b48",
   "metadata": {},
   "source": [
    "Now lets solve for the eigenvectors. In this case, it will be useful to solve for both left and right eigenvectors.\n",
    "\n",
    "So for right eigenvectors we solve this equation:\n",
    "\n",
    "$A \\vec{r_m}=\\lambda_m\\vec{r_m}$\n",
    "\n",
    "in this case we get the following eigenvectors:\n",
    "\n",
    "$\\vec{r}_1=\\begin{pmatrix}\\rho_0 \\\\ -c_0 \\\\ \\rho_0c_0^2 \\end{pmatrix}, \\vec{r}_2=\\begin{pmatrix} 1 \\\\ 0 \\\\ 0 \\end{pmatrix}, \\vec{r}_3=\\begin{pmatrix}\\rho_0 \\\\ c_0 \\\\ \\rho_0c_0^2 \\end{pmatrix}$"
   ]
  },
  {
   "cell_type": "markdown",
   "id": "adcf16c6-5484-4c99-9d1b-12c941cf3937",
   "metadata": {},
   "source": [
    "So let's consider the meaning of these eigenvectors and eigenvalues.\n",
    "\n",
    "eventually, if we solve for this (looking at the case of the 3rd eigenvalue) we get:\n",
    "\n",
    "$\\rho_1 = \\frac{\\rho_0 v_{x1}}{c_0}$ and $P_1 = \\rho_0 c_0 v_{x1}$ \n",
    "\n",
    "in other words, when we have an increase in our $x$ velocity, we get a simultaneous increase in our density and pressure. In other words, this is a right going __compressive wave__. (i.e. a right going sound wave)\n",
    "\n",
    "With the 1st eigenvector, we get a left going sound wave (also compressive wave).\n",
    "\n",
    "What about our 2nd eigenvalue?\n",
    "\n",
    "With this we will get no fluctions in $v_{x1}$ and $P_1$, but we _do_ get fluctuations in $\\rho_1$, and this is called an 'entropy wave' (or Contact Discontinuity). "
   ]
  },
  {
   "cell_type": "markdown",
   "id": "9fb62843-d018-4443-b9f7-53488a980d56",
   "metadata": {},
   "source": [
    "Now for the left eigenvectors we solve this equation:\n",
    "\n",
    "$\\vec{v}^n A = \\vec{v}^n \\lambda_n$\n",
    "\n",
    "We also want the left eigenvectors to be orthogonal ot the right eigenvectors.\n",
    "\n",
    "It turns out that these are our left eigenvectors:\n",
    "\n",
    "$\\vec{l}^1=\\begin{pmatrix} 0 & \\frac{-1}{2c_0} & \\frac{1}{2\\rho_0 c_0^2}\\end{pmatrix}$\n",
    "\n",
    "$\\vec{l}^2=\\begin{pmatrix}1 & 0 & \\frac{-1}{c_0^2}\\end{pmatrix}$\n",
    "\n",
    "$\\vec{l}^3=\\begin{pmatrix} 0 & \\frac{1}{2c_0} & \\frac{1}{2\\rho_0c_0^2}\\end{pmatrix}$"
   ]
  },
  {
   "cell_type": "markdown",
   "id": "6e5846e9-5124-4516-b950-5aa14827de70",
   "metadata": {},
   "source": [
    "Using these eigenvectors we can build a diagonal matrix.\n",
    "\n",
    "$\\begin{pmatrix}\\vec{l}^1 \\\\ \\vec{l}^2 \\\\ \\vec{l}^3 \\end{pmatrix} A \\begin{pmatrix}\\vec{r}_1 & \\vec{r}_2 & \\vec{r}_3\\end{pmatrix} = diag(\\lambda_1, \\lambda_2, \\lambda_3)$"
   ]
  },
  {
   "cell_type": "code",
   "execution_count": null,
   "id": "c2f11cf8-8d7d-4965-9110-7bce5fc6404a",
   "metadata": {},
   "outputs": [],
   "source": []
  }
 ],
 "metadata": {
  "kernelspec": {
   "display_name": "Python 3 (ipykernel)",
   "language": "python",
   "name": "python3"
  },
  "language_info": {
   "codemirror_mode": {
    "name": "ipython",
    "version": 3
   },
   "file_extension": ".py",
   "mimetype": "text/x-python",
   "name": "python",
   "nbconvert_exporter": "python",
   "pygments_lexer": "ipython3",
   "version": "3.11.4"
  }
 },
 "nbformat": 4,
 "nbformat_minor": 5
}
